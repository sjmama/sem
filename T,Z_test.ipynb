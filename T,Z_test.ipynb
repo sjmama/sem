{
  "nbformat": 4,
  "nbformat_minor": 0,
  "metadata": {
    "colab": {
      "provenance": [],
      "authorship_tag": "ABX9TyOEy/lUeD4l5++mwRMWEwM1",
      "include_colab_link": true
    },
    "kernelspec": {
      "name": "python3",
      "display_name": "Python 3"
    },
    "language_info": {
      "name": "python"
    }
  },
  "cells": [
    {
      "cell_type": "markdown",
      "metadata": {
        "id": "view-in-github",
        "colab_type": "text"
      },
      "source": [
        "<a href=\"https://colab.research.google.com/github/sjmama/sem/blob/main/T%2CZ_test.ipynb\" target=\"_parent\"><img src=\"https://colab.research.google.com/assets/colab-badge.svg\" alt=\"Open In Colab\"/></a>"
      ]
    },
    {
      "cell_type": "code",
      "execution_count": 8,
      "metadata": {
        "id": "-yrQMzfu0JJM"
      },
      "outputs": [],
      "source": [
        "from scipy.stats import shapiro\n",
        "from statsmodels.stats.weightstats import ztest as ztest\n",
        "import scipy.stats\n",
        "from scipy import stats\n",
        "from scipy.stats import ttest_ind\n",
        "import pandas as pd\n",
        "import seaborn as sns\n",
        "import matplotlib.pyplot as plt\n",
        "\n",
        "plt.rcParams['figure.dpi'] = 100"
      ]
    },
    {
      "cell_type": "code",
      "source": [
        "df = pd.read_csv(\"Golf_test.csv\")\n",
        "\n",
        "# 데이터 샘플 확인\n",
        "df.head()\n",
        "df.info()"
      ],
      "metadata": {
        "colab": {
          "base_uri": "https://localhost:8080/"
        },
        "id": "2-nRqeTB3FQF",
        "outputId": "96f696bf-e144-4edd-f6f7-1a04f4506687"
      },
      "execution_count": 9,
      "outputs": [
        {
          "output_type": "stream",
          "name": "stdout",
          "text": [
            "<class 'pandas.core.frame.DataFrame'>\n",
            "RangeIndex: 50 entries, 0 to 49\n",
            "Data columns (total 6 columns):\n",
            " #   Column        Non-Null Count  Dtype\n",
            "---  ------        --------------  -----\n",
            " 0   TypeA_before  50 non-null     int64\n",
            " 1   TypeA_after   50 non-null     int64\n",
            " 2   TypeB_before  50 non-null     int64\n",
            " 3   TypeB_after   50 non-null     int64\n",
            " 4   TypeC_before  50 non-null     int64\n",
            " 5   TypeC_after   50 non-null     int64\n",
            "dtypes: int64(6)\n",
            "memory usage: 2.5 KB\n"
          ]
        }
      ]
    },
    {
      "cell_type": "code",
      "source": [
        "df.describe()"
      ],
      "metadata": {
        "colab": {
          "base_uri": "https://localhost:8080/",
          "height": 300
        },
        "id": "BTT1Gf-F3FSL",
        "outputId": "4448a0ad-eff6-42dc-ca0e-5599ed436752"
      },
      "execution_count": 10,
      "outputs": [
        {
          "output_type": "execute_result",
          "data": {
            "text/plain": [
              "       TypeA_before  TypeA_after  TypeB_before  TypeB_after  TypeC_before  \\\n",
              "count     50.000000    50.000000     50.000000    50.000000     50.000000   \n",
              "mean     268.460000   270.720000    273.600000   276.100000    270.360000   \n",
              "std        9.817124     8.487782      8.566665     8.493094      8.385507   \n",
              "min      250.000000   255.000000    258.000000   261.000000    255.000000   \n",
              "25%      262.000000   264.000000    266.250000   269.000000    263.250000   \n",
              "50%      266.000000   271.000000    273.500000   276.500000    268.500000   \n",
              "75%      275.750000   275.000000    278.000000   280.000000    275.750000   \n",
              "max      289.000000   289.000000    292.000000   295.000000    289.000000   \n",
              "\n",
              "       TypeC_after  \n",
              "count    50.000000  \n",
              "mean    271.040000  \n",
              "std       9.437139  \n",
              "min     253.000000  \n",
              "25%     265.000000  \n",
              "50%     268.000000  \n",
              "75%     277.750000  \n",
              "max     291.000000  "
            ],
            "text/html": [
              "\n",
              "  <div id=\"df-3a3b59fd-6cfa-481a-8055-d4a58ee389f5\">\n",
              "    <div class=\"colab-df-container\">\n",
              "      <div>\n",
              "<style scoped>\n",
              "    .dataframe tbody tr th:only-of-type {\n",
              "        vertical-align: middle;\n",
              "    }\n",
              "\n",
              "    .dataframe tbody tr th {\n",
              "        vertical-align: top;\n",
              "    }\n",
              "\n",
              "    .dataframe thead th {\n",
              "        text-align: right;\n",
              "    }\n",
              "</style>\n",
              "<table border=\"1\" class=\"dataframe\">\n",
              "  <thead>\n",
              "    <tr style=\"text-align: right;\">\n",
              "      <th></th>\n",
              "      <th>TypeA_before</th>\n",
              "      <th>TypeA_after</th>\n",
              "      <th>TypeB_before</th>\n",
              "      <th>TypeB_after</th>\n",
              "      <th>TypeC_before</th>\n",
              "      <th>TypeC_after</th>\n",
              "    </tr>\n",
              "  </thead>\n",
              "  <tbody>\n",
              "    <tr>\n",
              "      <th>count</th>\n",
              "      <td>50.000000</td>\n",
              "      <td>50.000000</td>\n",
              "      <td>50.000000</td>\n",
              "      <td>50.000000</td>\n",
              "      <td>50.000000</td>\n",
              "      <td>50.000000</td>\n",
              "    </tr>\n",
              "    <tr>\n",
              "      <th>mean</th>\n",
              "      <td>268.460000</td>\n",
              "      <td>270.720000</td>\n",
              "      <td>273.600000</td>\n",
              "      <td>276.100000</td>\n",
              "      <td>270.360000</td>\n",
              "      <td>271.040000</td>\n",
              "    </tr>\n",
              "    <tr>\n",
              "      <th>std</th>\n",
              "      <td>9.817124</td>\n",
              "      <td>8.487782</td>\n",
              "      <td>8.566665</td>\n",
              "      <td>8.493094</td>\n",
              "      <td>8.385507</td>\n",
              "      <td>9.437139</td>\n",
              "    </tr>\n",
              "    <tr>\n",
              "      <th>min</th>\n",
              "      <td>250.000000</td>\n",
              "      <td>255.000000</td>\n",
              "      <td>258.000000</td>\n",
              "      <td>261.000000</td>\n",
              "      <td>255.000000</td>\n",
              "      <td>253.000000</td>\n",
              "    </tr>\n",
              "    <tr>\n",
              "      <th>25%</th>\n",
              "      <td>262.000000</td>\n",
              "      <td>264.000000</td>\n",
              "      <td>266.250000</td>\n",
              "      <td>269.000000</td>\n",
              "      <td>263.250000</td>\n",
              "      <td>265.000000</td>\n",
              "    </tr>\n",
              "    <tr>\n",
              "      <th>50%</th>\n",
              "      <td>266.000000</td>\n",
              "      <td>271.000000</td>\n",
              "      <td>273.500000</td>\n",
              "      <td>276.500000</td>\n",
              "      <td>268.500000</td>\n",
              "      <td>268.000000</td>\n",
              "    </tr>\n",
              "    <tr>\n",
              "      <th>75%</th>\n",
              "      <td>275.750000</td>\n",
              "      <td>275.000000</td>\n",
              "      <td>278.000000</td>\n",
              "      <td>280.000000</td>\n",
              "      <td>275.750000</td>\n",
              "      <td>277.750000</td>\n",
              "    </tr>\n",
              "    <tr>\n",
              "      <th>max</th>\n",
              "      <td>289.000000</td>\n",
              "      <td>289.000000</td>\n",
              "      <td>292.000000</td>\n",
              "      <td>295.000000</td>\n",
              "      <td>289.000000</td>\n",
              "      <td>291.000000</td>\n",
              "    </tr>\n",
              "  </tbody>\n",
              "</table>\n",
              "</div>\n",
              "      <button class=\"colab-df-convert\" onclick=\"convertToInteractive('df-3a3b59fd-6cfa-481a-8055-d4a58ee389f5')\"\n",
              "              title=\"Convert this dataframe to an interactive table.\"\n",
              "              style=\"display:none;\">\n",
              "        \n",
              "  <svg xmlns=\"http://www.w3.org/2000/svg\" height=\"24px\"viewBox=\"0 0 24 24\"\n",
              "       width=\"24px\">\n",
              "    <path d=\"M0 0h24v24H0V0z\" fill=\"none\"/>\n",
              "    <path d=\"M18.56 5.44l.94 2.06.94-2.06 2.06-.94-2.06-.94-.94-2.06-.94 2.06-2.06.94zm-11 1L8.5 8.5l.94-2.06 2.06-.94-2.06-.94L8.5 2.5l-.94 2.06-2.06.94zm10 10l.94 2.06.94-2.06 2.06-.94-2.06-.94-.94-2.06-.94 2.06-2.06.94z\"/><path d=\"M17.41 7.96l-1.37-1.37c-.4-.4-.92-.59-1.43-.59-.52 0-1.04.2-1.43.59L10.3 9.45l-7.72 7.72c-.78.78-.78 2.05 0 2.83L4 21.41c.39.39.9.59 1.41.59.51 0 1.02-.2 1.41-.59l7.78-7.78 2.81-2.81c.8-.78.8-2.07 0-2.86zM5.41 20L4 18.59l7.72-7.72 1.47 1.35L5.41 20z\"/>\n",
              "  </svg>\n",
              "      </button>\n",
              "      \n",
              "  <style>\n",
              "    .colab-df-container {\n",
              "      display:flex;\n",
              "      flex-wrap:wrap;\n",
              "      gap: 12px;\n",
              "    }\n",
              "\n",
              "    .colab-df-convert {\n",
              "      background-color: #E8F0FE;\n",
              "      border: none;\n",
              "      border-radius: 50%;\n",
              "      cursor: pointer;\n",
              "      display: none;\n",
              "      fill: #1967D2;\n",
              "      height: 32px;\n",
              "      padding: 0 0 0 0;\n",
              "      width: 32px;\n",
              "    }\n",
              "\n",
              "    .colab-df-convert:hover {\n",
              "      background-color: #E2EBFA;\n",
              "      box-shadow: 0px 1px 2px rgba(60, 64, 67, 0.3), 0px 1px 3px 1px rgba(60, 64, 67, 0.15);\n",
              "      fill: #174EA6;\n",
              "    }\n",
              "\n",
              "    [theme=dark] .colab-df-convert {\n",
              "      background-color: #3B4455;\n",
              "      fill: #D2E3FC;\n",
              "    }\n",
              "\n",
              "    [theme=dark] .colab-df-convert:hover {\n",
              "      background-color: #434B5C;\n",
              "      box-shadow: 0px 1px 3px 1px rgba(0, 0, 0, 0.15);\n",
              "      filter: drop-shadow(0px 1px 2px rgba(0, 0, 0, 0.3));\n",
              "      fill: #FFFFFF;\n",
              "    }\n",
              "  </style>\n",
              "\n",
              "      <script>\n",
              "        const buttonEl =\n",
              "          document.querySelector('#df-3a3b59fd-6cfa-481a-8055-d4a58ee389f5 button.colab-df-convert');\n",
              "        buttonEl.style.display =\n",
              "          google.colab.kernel.accessAllowed ? 'block' : 'none';\n",
              "\n",
              "        async function convertToInteractive(key) {\n",
              "          const element = document.querySelector('#df-3a3b59fd-6cfa-481a-8055-d4a58ee389f5');\n",
              "          const dataTable =\n",
              "            await google.colab.kernel.invokeFunction('convertToInteractive',\n",
              "                                                     [key], {});\n",
              "          if (!dataTable) return;\n",
              "\n",
              "          const docLinkHtml = 'Like what you see? Visit the ' +\n",
              "            '<a target=\"_blank\" href=https://colab.research.google.com/notebooks/data_table.ipynb>data table notebook</a>'\n",
              "            + ' to learn more about interactive tables.';\n",
              "          element.innerHTML = '';\n",
              "          dataTable['output_type'] = 'display_data';\n",
              "          await google.colab.output.renderOutput(dataTable, element);\n",
              "          const docLink = document.createElement('div');\n",
              "          docLink.innerHTML = docLinkHtml;\n",
              "          element.appendChild(docLink);\n",
              "        }\n",
              "      </script>\n",
              "    </div>\n",
              "  </div>\n",
              "  "
            ]
          },
          "metadata": {},
          "execution_count": 10
        }
      ]
    },
    {
      "cell_type": "code",
      "source": [
        "df2 =  pd.melt(df)\n",
        "plt.figure(figsize=(12,6))\n",
        "sns.boxplot(x='variable', y='value', data=df2)\n",
        "plt.title('Golf ball test')\n",
        "plt.show()"
      ],
      "metadata": {
        "colab": {
          "base_uri": "https://localhost:8080/",
          "height": 564
        },
        "id": "e5ASjvO_3FUd",
        "outputId": "08ec5484-08eb-48de-b95d-0f7caf7a67c6"
      },
      "execution_count": 11,
      "outputs": [
        {
          "output_type": "display_data",
          "data": {
            "text/plain": [
              "<Figure size 1200x600 with 1 Axes>"
            ],
            "image/png": "[encoded data removed]"
          },
          "metadata": {}
        }
      ]
    },
    {
      "cell_type": "code",
      "source": [
        "# 데이터 정규성 검정\n",
        "\n",
        "print(shapiro(df['TypeA_before']))\n",
        "print(shapiro(df['TypeA_after']))\n",
        "print(shapiro(df['TypeB_before']))\n",
        "print(shapiro(df['TypeB_after']))\n",
        "print(shapiro(df['TypeC_before']))\n",
        "print(shapiro(df['TypeC_after']))#p값이 0.05보다 높으면 귀무가설(정규성이 없음)을 기각한다"
      ],
      "metadata": {
        "colab": {
          "base_uri": "https://localhost:8080/"
        },
        "id": "ZJcQUznQ3FWp",
        "outputId": "9367764b-e5d4-454c-8ed8-e6ce4643d0db"
      },
      "execution_count": 12,
      "outputs": [
        {
          "output_type": "stream",
          "name": "stdout",
          "text": [
            "ShapiroResult(statistic=0.9655377864837646, pvalue=0.15155059099197388)\n",
            "ShapiroResult(statistic=0.9728279113769531, pvalue=0.3005082309246063)\n",
            "ShapiroResult(statistic=0.9730042219161987, pvalue=0.30535760521888733)\n",
            "ShapiroResult(statistic=0.9693011045455933, pvalue=0.21675525605678558)\n",
            "ShapiroResult(statistic=0.9595518112182617, pvalue=0.08513058722019196)\n",
            "ShapiroResult(statistic=0.9469832181930542, pvalue=0.02568192593753338)\n"
          ]
        }
      ]
    },
    {
      "cell_type": "code",
      "source": [
        "# 데이터 등분산성 검정\n",
        "stats.bartlett(df['TypeA_before'],df['TypeA_after'],\n",
        "               df['TypeB_before'],df['TypeB_after'],\n",
        "               df['TypeC_before'],df['TypeC_after'])#p값이 0.05를 넘어서 등분산이라는 귀무가설을 채택한다"
      ],
      "metadata": {
        "colab": {
          "base_uri": "https://localhost:8080/"
        },
        "id": "uB8NaDLV3FY7",
        "outputId": "84406cf8-9d5f-4135-be11-49754f4a5afa"
      },
      "execution_count": 13,
      "outputs": [
        {
          "output_type": "execute_result",
          "data": {
            "text/plain": [
              "BartlettResult(statistic=2.232358764161634, pvalue=0.8161484218330712)"
            ]
          },
          "metadata": {},
          "execution_count": 13
        }
      ]
    },
    {
      "cell_type": "code",
      "source": [],
      "metadata": {
        "id": "dMd9f3fg7xxL"
      },
      "execution_count": null,
      "outputs": []
    },
    {
      "cell_type": "code",
      "source": [
        "# Z-test (TypeA_Before와 TypeA_After)\n",
        "ztest(df['TypeA_before'], x2=df['TypeA_after'], value=0, alternative='two-sided')"
      ],
      "metadata": {
        "colab": {
          "base_uri": "https://localhost:8080/"
        },
        "id": "ldhlUiFY3FbY",
        "outputId": "589ae296-a3e6-4c48-8758-e6ce6b59dc6c"
      },
      "execution_count": 14,
      "outputs": [
        {
          "output_type": "execute_result",
          "data": {
            "text/plain": [
              "(-1.2313987682249838, 0.21817375744980994)"
            ]
          },
          "metadata": {},
          "execution_count": 14
        }
      ]
    },
    {
      "cell_type": "code",
      "source": [
        "# Z-test (TypeA_Before와 TypeB_before)\n",
        "\n",
        "# 양측검정\n",
        "print(ztest(df['TypeA_before'], x2=df['TypeB_before'], value=0, alternative='two-sided'))\n",
        "\n",
        "# 단측검정(왼꼬리검정)\n",
        "print(ztest(df['TypeA_before'], x2=df['TypeB_before'], value=0, alternative='smaller'))\n",
        "\n",
        "# 단측검정(오른꼬리검정)\n",
        "print(ztest(df['TypeA_before'], x2=df['TypeB_before'], value=0, alternative='larger'))#0.05보다 작으면 유의미한 차이가 있다."
      ],
      "metadata": {
        "colab": {
          "base_uri": "https://localhost:8080/"
        },
        "id": "pfA3D46V3Fdn",
        "outputId": "761ee288-c766-453c-c895-769bc9e9ad95"
      },
      "execution_count": 15,
      "outputs": [
        {
          "output_type": "stream",
          "name": "stdout",
          "text": [
            "(-2.789495974658115, 0.005279015267745852)\n",
            "(-2.789495974658115, 0.002639507633872926)\n",
            "(-2.789495974658115, 0.9973604923661271)\n"
          ]
        }
      ]
    },
    {
      "cell_type": "code",
      "source": [
        "# 대응표본 t검정 수행\n",
        "scipy.stats.ttest_rel(df['TypeA_before'],df['TypeA_after'])"
      ],
      "metadata": {
        "colab": {
          "base_uri": "https://localhost:8080/"
        },
        "id": "yoHPmXJq3FgG",
        "outputId": "9a73f30c-8a52-4f1b-d7ed-25d66af442d7"
      },
      "execution_count": 16,
      "outputs": [
        {
          "output_type": "execute_result",
          "data": {
            "text/plain": [
              "TtestResult(statistic=-1.221439914972903, pvalue=0.22776376448687602, df=49)"
            ]
          },
          "metadata": {},
          "execution_count": 16
        }
      ]
    },
    {
      "cell_type": "code",
      "source": [
        "# 독립표본 t검정 수행\n",
        "ttest_ind(df['TypeA_before'],df['TypeB_before'], equal_var=False)"
      ],
      "metadata": {
        "colab": {
          "base_uri": "https://localhost:8080/"
        },
        "id": "6nqTsEpR3Fih",
        "outputId": "06c61969-ed9f-4913-c702-3e5f96383270"
      },
      "execution_count": 17,
      "outputs": [
        {
          "output_type": "execute_result",
          "data": {
            "text/plain": [
              "Ttest_indResult(statistic=-2.789495974658115, pvalue=0.0063642243501398285)"
            ]
          },
          "metadata": {},
          "execution_count": 17
        }
      ]
    },
    {
      "cell_type": "code",
      "source": [],
      "metadata": {
        "id": "Npea0JOu3FlD"
      },
      "execution_count": null,
      "outputs": []
    },
    {
      "cell_type": "code",
      "source": [],
      "metadata": {
        "id": "OGwGyauZ3Fnq"
      },
      "execution_count": null,
      "outputs": []
    },
    {
      "cell_type": "code",
      "source": [],
      "metadata": {
        "id": "gVrNSio23Fpv"
      },
      "execution_count": null,
      "outputs": []
    },
    {
      "cell_type": "code",
      "source": [],
      "metadata": {
        "id": "eZDIG97r3FsX"
      },
      "execution_count": null,
      "outputs": []
    },
    {
      "cell_type": "code",
      "source": [],
      "metadata": {
        "id": "QTP-IChT3Fus"
      },
      "execution_count": null,
      "outputs": []
    },
    {
      "cell_type": "code",
      "source": [],
      "metadata": {
        "id": "id2uUxod3Fwy"
      },
      "execution_count": null,
      "outputs": []
    },
    {
      "cell_type": "code",
      "source": [],
      "metadata": {
        "id": "KxU7Zn_z3FzZ"
      },
      "execution_count": null,
      "outputs": []
    },
    {
      "cell_type": "code",
      "source": [],
      "metadata": {
        "id": "VX5LVqii3F1v"
      },
      "execution_count": null,
      "outputs": []
    },
    {
      "cell_type": "code",
      "source": [],
      "metadata": {
        "id": "cCHwLKvg3F30"
      },
      "execution_count": null,
      "outputs": []
    },
    {
      "cell_type": "code",
      "source": [],
      "metadata": {
        "id": "u-mPX_lb3F9C"
      },
      "execution_count": null,
      "outputs": []
    },
    {
      "cell_type": "code",
      "source": [],
      "metadata": {
        "id": "pxeO3x4r3F_i"
      },
      "execution_count": null,
      "outputs": []
    },
    {
      "cell_type": "code",
      "source": [],
      "metadata": {
        "id": "PrMicKfP3GB5"
      },
      "execution_count": null,
      "outputs": []
    },
    {
      "cell_type": "code",
      "source": [],
      "metadata": {
        "id": "2wWft1Ql3GEb"
      },
      "execution_count": null,
      "outputs": []
    }
  ]
}